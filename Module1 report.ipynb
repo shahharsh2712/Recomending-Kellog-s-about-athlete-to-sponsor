{
 "cells": [
  {
   "cell_type": "markdown",
   "metadata": {},
   "source": [
    "##                   Recommending Kellogg's about athlete to sponsor"
   ]
  },
  {
   "cell_type": "markdown",
   "metadata": {},
   "source": [
    "### by Harsh Shah"
   ]
  },
  {
   "cell_type": "markdown",
   "metadata": {},
   "source": [
    "## 1.Objective of the Proposed Research"
   ]
  },
  {
   "cell_type": "markdown",
   "metadata": {},
   "source": [
    "Kellogg's is nearly a generic in many global markets. While in many global homes, Kellogg's is a morning dining-table staple, that's not the case in India, despite decades of presence. India is a country where people have always favoured homemade traditional food for breakfast. So the Kellogg company, a global cereal giant has struggled to get more Indians to switch to packaged breakfast foods like cereal. But these days the market leader in the organised breakfast cereal category has an even bigger concern: An increasing number of younger consumers are often entirely skipping ‘the most important meal of the day’.\n",
    "\n",
    "To overcome old and emerging challenges, the company is looking forward to launch new products or variants in \"ethnic\" flavors like \"thandai badam\" and rose-flavoured corn flakes. To cater to palettes more skewed to Western breakfast and snacking trends, the company is planning to add granola with almonds and cranberries to the portfolio. So the company has worked out on product development part.\n",
    "\n",
    "Now, the company wants to communicate extensively about this products and is devicing a strategy to do so. One of the options is by selecting the right sport and athlete to sponsor in Olympics as it is one of the big events to be held in near future and the company wants to capitalize on it. So the purpose of this research is to understand and analyze the olympic dataset and find insights about different trends related to olympics over the years in India which can help Kellogg's choose the right brand ambassador for their products. "
   ]
  },
  {
   "cell_type": "markdown",
   "metadata": {},
   "source": [
    "## 2. Data Exploration"
   ]
  },
  {
   "cell_type": "code",
   "execution_count": 1,
   "metadata": {},
   "outputs": [
    {
     "ename": "NameError",
     "evalue": "name 'library' is not defined",
     "output_type": "error",
     "traceback": [
      "\u001b[1;31m---------------------------------------------------------------------------\u001b[0m",
      "\u001b[1;31mNameError\u001b[0m                                 Traceback (most recent call last)",
      "\u001b[1;32mC:\\Users\\HARSHS~1\\AppData\\Local\\Temp/ipykernel_20436/745743469.py\u001b[0m in \u001b[0;36m<module>\u001b[1;34m\u001b[0m\n\u001b[0;32m      1\u001b[0m \u001b[1;31m#load packages\u001b[0m\u001b[1;33m\u001b[0m\u001b[1;33m\u001b[0m\u001b[0m\n\u001b[1;32m----> 2\u001b[1;33m \u001b[0mlibrary\u001b[0m\u001b[1;33m(\u001b[0m\u001b[0mtidyverse\u001b[0m\u001b[1;33m)\u001b[0m\u001b[1;33m\u001b[0m\u001b[1;33m\u001b[0m\u001b[0m\n\u001b[0m",
      "\u001b[1;31mNameError\u001b[0m: name 'library' is not defined"
     ]
    }
   ],
   "source": [
    "#load packages\n",
    "library(tidyverse)"
   ]
  },
  {
   "cell_type": "code",
   "execution_count": 43,
   "metadata": {},
   "outputs": [],
   "source": [
    "#Load athlete_events data\n",
    "athlete_events <- read_csv(\"athlete_events.csv\",\n",
    "                          col_types = cols(\n",
    "                          ID = col_character(),\n",
    "                          Name = col_character(),\n",
    "                          Sex = col_factor(levels = c(\"M\",\"F\")),\n",
    "                          Age = col_integer(),\n",
    "                          Height = col_double(),\n",
    "                          Weight = col_double(),\n",
    "                          Team = col_character(),\n",
    "                          NOC = col_character(),\n",
    "                          Games = col_character(),\n",
    "                          Year = col_integer(),\n",
    "                          Season = col_factor(levels = c(\"Summer\", \"Winter\")),\n",
    "                          City = col_character(),\n",
    "                          Sport = col_character(),\n",
    "                          City = col_character(),\n",
    "                          Sport = col_character(),\n",
    "                          Event = col_character(),\n",
    "                          Medal = col_factor(levels =c(\"Gold\", \"Silver\", \"Bronze\"))))"
   ]
  },
  {
   "cell_type": "code",
   "execution_count": 44,
   "metadata": {},
   "outputs": [
    {
     "data": {
      "text/plain": [
       "      ID                Name           Sex             Age       \n",
       " Length:271116      Length:271116      M:196594   Min.   :10.00  \n",
       " Class :character   Class :character   F: 74522   1st Qu.:21.00  \n",
       " Mode  :character   Mode  :character              Median :24.00  \n",
       "                                                  Mean   :25.56  \n",
       "                                                  3rd Qu.:28.00  \n",
       "                                                  Max.   :97.00  \n",
       "                                                  NA's   :9474   \n",
       "     Height          Weight          Team               NOC           \n",
       " Min.   :127.0   Min.   : 25.0   Length:271116      Length:271116     \n",
       " 1st Qu.:168.0   1st Qu.: 60.0   Class :character   Class :character  \n",
       " Median :175.0   Median : 70.0   Mode  :character   Mode  :character  \n",
       " Mean   :175.3   Mean   : 70.7                                        \n",
       " 3rd Qu.:183.0   3rd Qu.: 79.0                                        \n",
       " Max.   :226.0   Max.   :214.0                                        \n",
       " NA's   :60171   NA's   :62875                                        \n",
       "    Games                Year         Season           City          \n",
       " Length:271116      Min.   :1896   Summer:222552   Length:271116     \n",
       " Class :character   1st Qu.:1960   Winter: 48564   Class :character  \n",
       " Mode  :character   Median :1988                   Mode  :character  \n",
       "                    Mean   :1978                                     \n",
       "                    3rd Qu.:2002                                     \n",
       "                    Max.   :2016                                     \n",
       "                                                                     \n",
       "    Sport              Event              Medal       \n",
       " Length:271116      Length:271116      Gold  : 13372  \n",
       " Class :character   Class :character   Silver: 13116  \n",
       " Mode  :character   Mode  :character   Bronze: 13295  \n",
       "                                       NA's  :231333  \n",
       "                                                      \n",
       "                                                      \n",
       "                                                      "
      ]
     },
     "metadata": {},
     "output_type": "display_data"
    }
   ],
   "source": [
    "#Describing data\n",
    "summary(athlete_events)"
   ]
  },
  {
   "cell_type": "markdown",
   "metadata": {},
   "source": [
    "The Summary clearly shows we have 15 columns and 271116 rows. Each column represents different kinds of data like character, integer, double, etc. Columns like Age, Height, Weight and Medal have many missing values. Fields with numeric values are summarised with different measures of center like Mean, Median, Mode, etc.. For instance, according to 120 years of olympic history, the average age of an athlete participating in any field is 25.56 years. "
   ]
  },
  {
   "cell_type": "code",
   "execution_count": 46,
   "metadata": {
    "scrolled": true
   },
   "outputs": [
    {
     "data": {
      "text/html": [
       "<table>\n",
       "<thead><tr><th scope=col>ID</th><th scope=col>Name</th><th scope=col>Sex</th><th scope=col>Age</th><th scope=col>Height</th><th scope=col>Weight</th><th scope=col>Team</th><th scope=col>NOC</th><th scope=col>Games</th><th scope=col>Year</th><th scope=col>Season</th><th scope=col>City</th><th scope=col>Sport</th><th scope=col>Event</th><th scope=col>Medal</th></tr></thead>\n",
       "<tbody>\n",
       "\t<tr><td>1                                 </td><td>A Dijiang                         </td><td>M                                 </td><td>24                                </td><td>180                               </td><td>80                                </td><td>China                             </td><td>CHN                               </td><td>1992 Summer                       </td><td>1992                              </td><td>Summer                            </td><td>Barcelona                         </td><td>Basketball                        </td><td>Basketball Men's Basketball       </td><td>NA                                </td></tr>\n",
       "\t<tr><td>2                                 </td><td>A Lamusi                          </td><td>M                                 </td><td>23                                </td><td>170                               </td><td>60                                </td><td>China                             </td><td>CHN                               </td><td>2012 Summer                       </td><td>2012                              </td><td>Summer                            </td><td>London                            </td><td>Judo                              </td><td>Judo Men's Extra-Lightweight      </td><td>NA                                </td></tr>\n",
       "\t<tr><td>3                                 </td><td>Gunnar Nielsen Aaby               </td><td>M                                 </td><td>24                                </td><td> NA                               </td><td>NA                                </td><td>Denmark                           </td><td>DEN                               </td><td>1920 Summer                       </td><td>1920                              </td><td>Summer                            </td><td>Antwerpen                         </td><td>Football                          </td><td>Football Men's Football           </td><td>NA                                </td></tr>\n",
       "\t<tr><td>4                                 </td><td>Edgar Lindenau Aabye              </td><td>M                                 </td><td>34                                </td><td> NA                               </td><td>NA                                </td><td>Denmark/Sweden                    </td><td>DEN                               </td><td>1900 Summer                       </td><td>1900                              </td><td>Summer                            </td><td>Paris                             </td><td>Tug-Of-War                        </td><td>Tug-Of-War Men's Tug-Of-War       </td><td>Gold                              </td></tr>\n",
       "\t<tr><td>5                                 </td><td>Christine Jacoba Aaftink          </td><td>F                                 </td><td>21                                </td><td>185                               </td><td>82                                </td><td>Netherlands                       </td><td>NED                               </td><td>1988 Winter                       </td><td>1988                              </td><td>Winter                            </td><td>Calgary                           </td><td>Speed Skating                     </td><td>Speed Skating Women's 500 metres  </td><td>NA                                </td></tr>\n",
       "\t<tr><td>5                                 </td><td>Christine Jacoba Aaftink          </td><td>F                                 </td><td>21                                </td><td>185                               </td><td>82                                </td><td>Netherlands                       </td><td>NED                               </td><td>1988 Winter                       </td><td>1988                              </td><td>Winter                            </td><td>Calgary                           </td><td>Speed Skating                     </td><td>Speed Skating Women's 1,000 metres</td><td>NA                                </td></tr>\n",
       "\t<tr><td>5                                 </td><td>Christine Jacoba Aaftink          </td><td>F                                 </td><td>25                                </td><td>185                               </td><td>82                                </td><td>Netherlands                       </td><td>NED                               </td><td>1992 Winter                       </td><td>1992                              </td><td>Winter                            </td><td>Albertville                       </td><td>Speed Skating                     </td><td>Speed Skating Women's 500 metres  </td><td>NA                                </td></tr>\n",
       "\t<tr><td>5                                 </td><td>Christine Jacoba Aaftink          </td><td>F                                 </td><td>25                                </td><td>185                               </td><td>82                                </td><td>Netherlands                       </td><td>NED                               </td><td>1992 Winter                       </td><td>1992                              </td><td>Winter                            </td><td>Albertville                       </td><td>Speed Skating                     </td><td>Speed Skating Women's 1,000 metres</td><td>NA                                </td></tr>\n",
       "\t<tr><td>5                                 </td><td>Christine Jacoba Aaftink          </td><td>F                                 </td><td>27                                </td><td>185                               </td><td>82                                </td><td>Netherlands                       </td><td>NED                               </td><td>1994 Winter                       </td><td>1994                              </td><td>Winter                            </td><td>Lillehammer                       </td><td>Speed Skating                     </td><td>Speed Skating Women's 500 metres  </td><td>NA                                </td></tr>\n",
       "\t<tr><td>5                                 </td><td>Christine Jacoba Aaftink          </td><td>F                                 </td><td>27                                </td><td>185                               </td><td>82                                </td><td>Netherlands                       </td><td>NED                               </td><td>1994 Winter                       </td><td>1994                              </td><td>Winter                            </td><td>Lillehammer                       </td><td>Speed Skating                     </td><td>Speed Skating Women's 1,000 metres</td><td>NA                                </td></tr>\n",
       "</tbody>\n",
       "</table>\n"
      ],
      "text/latex": [
       "\\begin{tabular}{r|lllllllllllllll}\n",
       " ID & Name & Sex & Age & Height & Weight & Team & NOC & Games & Year & Season & City & Sport & Event & Medal\\\\\n",
       "\\hline\n",
       "\t 1                                  & A Dijiang                          & M                                  & 24                                 & 180                                & 80                                 & China                              & CHN                                & 1992 Summer                        & 1992                               & Summer                             & Barcelona                          & Basketball                         & Basketball Men's Basketball        & NA                                \\\\\n",
       "\t 2                                  & A Lamusi                           & M                                  & 23                                 & 170                                & 60                                 & China                              & CHN                                & 2012 Summer                        & 2012                               & Summer                             & London                             & Judo                               & Judo Men's Extra-Lightweight       & NA                                \\\\\n",
       "\t 3                                  & Gunnar Nielsen Aaby                & M                                  & 24                                 &  NA                                & NA                                 & Denmark                            & DEN                                & 1920 Summer                        & 1920                               & Summer                             & Antwerpen                          & Football                           & Football Men's Football            & NA                                \\\\\n",
       "\t 4                                  & Edgar Lindenau Aabye               & M                                  & 34                                 &  NA                                & NA                                 & Denmark/Sweden                     & DEN                                & 1900 Summer                        & 1900                               & Summer                             & Paris                              & Tug-Of-War                         & Tug-Of-War Men's Tug-Of-War        & Gold                              \\\\\n",
       "\t 5                                  & Christine Jacoba Aaftink           & F                                  & 21                                 & 185                                & 82                                 & Netherlands                        & NED                                & 1988 Winter                        & 1988                               & Winter                             & Calgary                            & Speed Skating                      & Speed Skating Women's 500 metres   & NA                                \\\\\n",
       "\t 5                                  & Christine Jacoba Aaftink           & F                                  & 21                                 & 185                                & 82                                 & Netherlands                        & NED                                & 1988 Winter                        & 1988                               & Winter                             & Calgary                            & Speed Skating                      & Speed Skating Women's 1,000 metres & NA                                \\\\\n",
       "\t 5                                  & Christine Jacoba Aaftink           & F                                  & 25                                 & 185                                & 82                                 & Netherlands                        & NED                                & 1992 Winter                        & 1992                               & Winter                             & Albertville                        & Speed Skating                      & Speed Skating Women's 500 metres   & NA                                \\\\\n",
       "\t 5                                  & Christine Jacoba Aaftink           & F                                  & 25                                 & 185                                & 82                                 & Netherlands                        & NED                                & 1992 Winter                        & 1992                               & Winter                             & Albertville                        & Speed Skating                      & Speed Skating Women's 1,000 metres & NA                                \\\\\n",
       "\t 5                                  & Christine Jacoba Aaftink           & F                                  & 27                                 & 185                                & 82                                 & Netherlands                        & NED                                & 1994 Winter                        & 1994                               & Winter                             & Lillehammer                        & Speed Skating                      & Speed Skating Women's 500 metres   & NA                                \\\\\n",
       "\t 5                                  & Christine Jacoba Aaftink           & F                                  & 27                                 & 185                                & 82                                 & Netherlands                        & NED                                & 1994 Winter                        & 1994                               & Winter                             & Lillehammer                        & Speed Skating                      & Speed Skating Women's 1,000 metres & NA                                \\\\\n",
       "\\end{tabular}\n"
      ],
      "text/markdown": [
       "\n",
       "| ID | Name | Sex | Age | Height | Weight | Team | NOC | Games | Year | Season | City | Sport | Event | Medal |\n",
       "|---|---|---|---|---|---|---|---|---|---|---|---|---|---|---|\n",
       "| 1                                  | A Dijiang                          | M                                  | 24                                 | 180                                | 80                                 | China                              | CHN                                | 1992 Summer                        | 1992                               | Summer                             | Barcelona                          | Basketball                         | Basketball Men's Basketball        | NA                                 |\n",
       "| 2                                  | A Lamusi                           | M                                  | 23                                 | 170                                | 60                                 | China                              | CHN                                | 2012 Summer                        | 2012                               | Summer                             | London                             | Judo                               | Judo Men's Extra-Lightweight       | NA                                 |\n",
       "| 3                                  | Gunnar Nielsen Aaby                | M                                  | 24                                 |  NA                                | NA                                 | Denmark                            | DEN                                | 1920 Summer                        | 1920                               | Summer                             | Antwerpen                          | Football                           | Football Men's Football            | NA                                 |\n",
       "| 4                                  | Edgar Lindenau Aabye               | M                                  | 34                                 |  NA                                | NA                                 | Denmark/Sweden                     | DEN                                | 1900 Summer                        | 1900                               | Summer                             | Paris                              | Tug-Of-War                         | Tug-Of-War Men's Tug-Of-War        | Gold                               |\n",
       "| 5                                  | Christine Jacoba Aaftink           | F                                  | 21                                 | 185                                | 82                                 | Netherlands                        | NED                                | 1988 Winter                        | 1988                               | Winter                             | Calgary                            | Speed Skating                      | Speed Skating Women's 500 metres   | NA                                 |\n",
       "| 5                                  | Christine Jacoba Aaftink           | F                                  | 21                                 | 185                                | 82                                 | Netherlands                        | NED                                | 1988 Winter                        | 1988                               | Winter                             | Calgary                            | Speed Skating                      | Speed Skating Women's 1,000 metres | NA                                 |\n",
       "| 5                                  | Christine Jacoba Aaftink           | F                                  | 25                                 | 185                                | 82                                 | Netherlands                        | NED                                | 1992 Winter                        | 1992                               | Winter                             | Albertville                        | Speed Skating                      | Speed Skating Women's 500 metres   | NA                                 |\n",
       "| 5                                  | Christine Jacoba Aaftink           | F                                  | 25                                 | 185                                | 82                                 | Netherlands                        | NED                                | 1992 Winter                        | 1992                               | Winter                             | Albertville                        | Speed Skating                      | Speed Skating Women's 1,000 metres | NA                                 |\n",
       "| 5                                  | Christine Jacoba Aaftink           | F                                  | 27                                 | 185                                | 82                                 | Netherlands                        | NED                                | 1994 Winter                        | 1994                               | Winter                             | Lillehammer                        | Speed Skating                      | Speed Skating Women's 500 metres   | NA                                 |\n",
       "| 5                                  | Christine Jacoba Aaftink           | F                                  | 27                                 | 185                                | 82                                 | Netherlands                        | NED                                | 1994 Winter                        | 1994                               | Winter                             | Lillehammer                        | Speed Skating                      | Speed Skating Women's 1,000 metres | NA                                 |\n",
       "\n"
      ],
      "text/plain": [
       "   ID Name                     Sex Age Height Weight Team           NOC\n",
       "1  1  A Dijiang                M   24  180    80     China          CHN\n",
       "2  2  A Lamusi                 M   23  170    60     China          CHN\n",
       "3  3  Gunnar Nielsen Aaby      M   24   NA    NA     Denmark        DEN\n",
       "4  4  Edgar Lindenau Aabye     M   34   NA    NA     Denmark/Sweden DEN\n",
       "5  5  Christine Jacoba Aaftink F   21  185    82     Netherlands    NED\n",
       "6  5  Christine Jacoba Aaftink F   21  185    82     Netherlands    NED\n",
       "7  5  Christine Jacoba Aaftink F   25  185    82     Netherlands    NED\n",
       "8  5  Christine Jacoba Aaftink F   25  185    82     Netherlands    NED\n",
       "9  5  Christine Jacoba Aaftink F   27  185    82     Netherlands    NED\n",
       "10 5  Christine Jacoba Aaftink F   27  185    82     Netherlands    NED\n",
       "   Games       Year Season City        Sport        \n",
       "1  1992 Summer 1992 Summer Barcelona   Basketball   \n",
       "2  2012 Summer 2012 Summer London      Judo         \n",
       "3  1920 Summer 1920 Summer Antwerpen   Football     \n",
       "4  1900 Summer 1900 Summer Paris       Tug-Of-War   \n",
       "5  1988 Winter 1988 Winter Calgary     Speed Skating\n",
       "6  1988 Winter 1988 Winter Calgary     Speed Skating\n",
       "7  1992 Winter 1992 Winter Albertville Speed Skating\n",
       "8  1992 Winter 1992 Winter Albertville Speed Skating\n",
       "9  1994 Winter 1994 Winter Lillehammer Speed Skating\n",
       "10 1994 Winter 1994 Winter Lillehammer Speed Skating\n",
       "   Event                              Medal\n",
       "1  Basketball Men's Basketball        NA   \n",
       "2  Judo Men's Extra-Lightweight       NA   \n",
       "3  Football Men's Football            NA   \n",
       "4  Tug-Of-War Men's Tug-Of-War        Gold \n",
       "5  Speed Skating Women's 500 metres   NA   \n",
       "6  Speed Skating Women's 1,000 metres NA   \n",
       "7  Speed Skating Women's 500 metres   NA   \n",
       "8  Speed Skating Women's 1,000 metres NA   \n",
       "9  Speed Skating Women's 500 metres   NA   \n",
       "10 Speed Skating Women's 1,000 metres NA   "
      ]
     },
     "metadata": {},
     "output_type": "display_data"
    }
   ],
   "source": [
    "#First 10 rows\n",
    "head(athlete_events, 10)"
   ]
  },
  {
   "cell_type": "markdown",
   "metadata": {},
   "source": [
    "The output above clearly shows the information about the data that each column represents. For instance, by looking at the table, we can differentiate between Sport column and Event column and understand that event is subcategory of sport."
   ]
  },
  {
   "cell_type": "code",
   "execution_count": 102,
   "metadata": {},
   "outputs": [
    {
     "name": "stderr",
     "output_type": "stream",
     "text": [
      "`summarise()` regrouping output by 'Year' (override with `.groups` argument)\n"
     ]
    }
   ],
   "source": [
    "#Counting the number of athletes that have represented India over years\n",
    "athlete_counts <- athlete_events %>% filter(Team == \"India\") %>%\n",
    "  group_by(Year, Season) %>%\n",
    "  summarize(Athletes = length(unique(ID)))"
   ]
  },
  {
   "cell_type": "markdown",
   "metadata": {},
   "source": [
    "## 3. Plotting graph"
   ]
  },
  {
   "cell_type": "code",
   "execution_count": 97,
   "metadata": {},
   "outputs": [
    {
     "data": {
      "image/png": "[encoded data removed]",
      "text/plain": [
       "plot without title"
      ]
     },
     "metadata": {},
     "output_type": "display_data"
    }
   ],
   "source": [
    "#Plot representing athlete_counts\n",
    "options(repr.plot.width = 8, repr.plot.height = 4)\n",
    "p1 <- ggplot(athlete_counts, aes(x=Year, y=Athletes, group=Season, color=Season)) + \n",
    "    geom_point(size = 2) + \n",
    "    geom_line() +\n",
    "    ggtitle(\"Participation of Indian athletes in olympics over years\") +\n",
    "    theme(plot.title = element_text(hjust = 0.5)) +\n",
    "    scale_color_manual(values=c(\"#003f5c\", \"#ffa600\"))\n",
    "p1"
   ]
  },
  {
   "cell_type": "markdown",
   "metadata": {},
   "source": [
    "As can be seen from the graph, India has always participated more enthusiastically in Summer Olympics than in Winter Olympics. Winter Olympics has never been popular in India and the country's participation has declined over time. However, India's participation has increased significantly in last two summer olympics, particularly in Rio olympics held in 2016. So Summer Olympics is gaining momentum and is a good option for Kellogg's to look upon.  "
   ]
  },
  {
   "cell_type": "markdown",
   "metadata": {},
   "source": [
    "Kellogg's can particularly focus on one or more sport that are a part of Olympics and are becoming popular in India. A good metric to judge that can be Sports with highest number of participating athletes in recent Olympics."
   ]
  },
  {
   "cell_type": "markdown",
   "metadata": {},
   "source": [
    "## 4. One column selection"
   ]
  },
  {
   "cell_type": "code",
   "execution_count": 107,
   "metadata": {},
   "outputs": [
    {
     "name": "stderr",
     "output_type": "stream",
     "text": [
      "`summarise()` ungrouping output (override with `.groups` argument)\n"
     ]
    },
    {
     "data": {
      "text/html": [
       "<table>\n",
       "<thead><tr><th scope=col>Sport</th><th scope=col>Athletes</th></tr></thead>\n",
       "<tbody>\n",
       "\t<tr><td>Archery      </td><td> 8           </td></tr>\n",
       "\t<tr><td>Athletics    </td><td>37           </td></tr>\n",
       "\t<tr><td>Badminton    </td><td> 9           </td></tr>\n",
       "\t<tr><td>Boxing       </td><td> 8           </td></tr>\n",
       "\t<tr><td>Golf         </td><td> 3           </td></tr>\n",
       "\t<tr><td>Gymnastics   </td><td> 1           </td></tr>\n",
       "\t<tr><td>Hockey       </td><td>41           </td></tr>\n",
       "\t<tr><td>Judo         </td><td> 2           </td></tr>\n",
       "\t<tr><td>Rowing       </td><td> 4           </td></tr>\n",
       "\t<tr><td>Shooting     </td><td>19           </td></tr>\n",
       "\t<tr><td>Swimming     </td><td> 3           </td></tr>\n",
       "\t<tr><td>Table Tennis </td><td> 5           </td></tr>\n",
       "\t<tr><td>Tennis       </td><td> 7           </td></tr>\n",
       "\t<tr><td>Weightlifting</td><td> 4           </td></tr>\n",
       "\t<tr><td>Wrestling    </td><td>11           </td></tr>\n",
       "</tbody>\n",
       "</table>\n"
      ],
      "text/latex": [
       "\\begin{tabular}{r|ll}\n",
       " Sport & Athletes\\\\\n",
       "\\hline\n",
       "\t Archery       &  8           \\\\\n",
       "\t Athletics     & 37           \\\\\n",
       "\t Badminton     &  9           \\\\\n",
       "\t Boxing        &  8           \\\\\n",
       "\t Golf          &  3           \\\\\n",
       "\t Gymnastics    &  1           \\\\\n",
       "\t Hockey        & 41           \\\\\n",
       "\t Judo          &  2           \\\\\n",
       "\t Rowing        &  4           \\\\\n",
       "\t Shooting      & 19           \\\\\n",
       "\t Swimming      &  3           \\\\\n",
       "\t Table Tennis  &  5           \\\\\n",
       "\t Tennis        &  7           \\\\\n",
       "\t Weightlifting &  4           \\\\\n",
       "\t Wrestling     & 11           \\\\\n",
       "\\end{tabular}\n"
      ],
      "text/markdown": [
       "\n",
       "| Sport | Athletes |\n",
       "|---|---|\n",
       "| Archery       |  8            |\n",
       "| Athletics     | 37            |\n",
       "| Badminton     |  9            |\n",
       "| Boxing        |  8            |\n",
       "| Golf          |  3            |\n",
       "| Gymnastics    |  1            |\n",
       "| Hockey        | 41            |\n",
       "| Judo          |  2            |\n",
       "| Rowing        |  4            |\n",
       "| Shooting      | 19            |\n",
       "| Swimming      |  3            |\n",
       "| Table Tennis  |  5            |\n",
       "| Tennis        |  7            |\n",
       "| Weightlifting |  4            |\n",
       "| Wrestling     | 11            |\n",
       "\n"
      ],
      "text/plain": [
       "   Sport         Athletes\n",
       "1  Archery        8      \n",
       "2  Athletics     37      \n",
       "3  Badminton      9      \n",
       "4  Boxing         8      \n",
       "5  Golf           3      \n",
       "6  Gymnastics     1      \n",
       "7  Hockey        41      \n",
       "8  Judo           2      \n",
       "9  Rowing         4      \n",
       "10 Shooting      19      \n",
       "11 Swimming       3      \n",
       "12 Table Tennis   5      \n",
       "13 Tennis         7      \n",
       "14 Weightlifting  4      \n",
       "15 Wrestling     11      "
      ]
     },
     "metadata": {},
     "output_type": "display_data"
    }
   ],
   "source": [
    "#Sports that India has participated\n",
    "upcoming_sports <- athlete_events %>% filter(Team == \"India\", Year %in% c(2012, 2016)) %>%\n",
    "    group_by(Sport) %>%\n",
    "    summarize(Athletes = length(unique(ID)))\n",
    "upcoming_sports"
   ]
  },
  {
   "cell_type": "code",
   "execution_count": 93,
   "metadata": {},
   "outputs": [
    {
     "data": {
      "text/html": [
       "<table>\n",
       "<thead><tr><th scope=col>Sport</th><th scope=col>Athletes</th></tr></thead>\n",
       "<tbody>\n",
       "\t<tr><td>Hockey      </td><td>41          </td></tr>\n",
       "\t<tr><td>Athletics   </td><td>37          </td></tr>\n",
       "\t<tr><td>Shooting    </td><td>19          </td></tr>\n",
       "\t<tr><td>Wrestling   </td><td>11          </td></tr>\n",
       "\t<tr><td>Badminton   </td><td> 9          </td></tr>\n",
       "\t<tr><td>Archery     </td><td> 8          </td></tr>\n",
       "\t<tr><td>Boxing      </td><td> 8          </td></tr>\n",
       "\t<tr><td>Tennis      </td><td> 7          </td></tr>\n",
       "\t<tr><td>Table Tennis</td><td> 5          </td></tr>\n",
       "\t<tr><td>Rowing      </td><td> 4          </td></tr>\n",
       "</tbody>\n",
       "</table>\n"
      ],
      "text/latex": [
       "\\begin{tabular}{r|ll}\n",
       " Sport & Athletes\\\\\n",
       "\\hline\n",
       "\t Hockey       & 41          \\\\\n",
       "\t Athletics    & 37          \\\\\n",
       "\t Shooting     & 19          \\\\\n",
       "\t Wrestling    & 11          \\\\\n",
       "\t Badminton    &  9          \\\\\n",
       "\t Archery      &  8          \\\\\n",
       "\t Boxing       &  8          \\\\\n",
       "\t Tennis       &  7          \\\\\n",
       "\t Table Tennis &  5          \\\\\n",
       "\t Rowing       &  4          \\\\\n",
       "\\end{tabular}\n"
      ],
      "text/markdown": [
       "\n",
       "| Sport | Athletes |\n",
       "|---|---|\n",
       "| Hockey       | 41           |\n",
       "| Athletics    | 37           |\n",
       "| Shooting     | 19           |\n",
       "| Wrestling    | 11           |\n",
       "| Badminton    |  9           |\n",
       "| Archery      |  8           |\n",
       "| Boxing       |  8           |\n",
       "| Tennis       |  7           |\n",
       "| Table Tennis |  5           |\n",
       "| Rowing       |  4           |\n",
       "\n"
      ],
      "text/plain": [
       "   Sport        Athletes\n",
       "1  Hockey       41      \n",
       "2  Athletics    37      \n",
       "3  Shooting     19      \n",
       "4  Wrestling    11      \n",
       "5  Badminton     9      \n",
       "6  Archery       8      \n",
       "7  Boxing        8      \n",
       "8  Tennis        7      \n",
       "9  Table Tennis  5      \n",
       "10 Rowing        4      "
      ]
     },
     "metadata": {},
     "output_type": "display_data"
    }
   ],
   "source": [
    "#Selecting 10 Sports with highest athletes\n",
    "highest_athletes <- upcoming_sports[with(upcoming_sports, order(-Athletes)),]\n",
    "highest_athletes <- highest_athletes[1:10,]\n",
    "highest_athletes"
   ]
  },
  {
   "cell_type": "markdown",
   "metadata": {},
   "source": [
    "The above table shows 10 Sports with highest number of athletes that have represented India in last two Olympics. Although Hockey is leading the chart and is very popular in India, it is a team sport and does not fit with the Company's strategy of finding the right Olympic spokesperson. Sports like Athletics, Shooting, Archery,etc. have a good number of representation but have never gained eyeballs in India. \n",
    "\n",
    "Sports that have remained at forefront in engaging audience over the years are Wrestling and Badminton and are both good choices for Kellog's to sponsor. Athletes of both Sport have performed tremendously well in various Global events recently. However, Wrestling can be a better choice for Kellog's marketing team as it is more of a traditional sport and appeals to both rural as well as urban audience of India. It is also popular among younger generation as it is fun to watch.\n",
    "\n",
    "Now, we should focus on selecting a particular athlete that can become the face of company."
   ]
  },
  {
   "cell_type": "markdown",
   "metadata": {},
   "source": [
    "## 5. Series"
   ]
  },
  {
   "cell_type": "code",
   "execution_count": 101,
   "metadata": {},
   "outputs": [
    {
     "name": "stderr",
     "output_type": "stream",
     "text": [
      "`summarise()` regrouping output by 'Name' (override with `.groups` argument)\n"
     ]
    },
    {
     "data": {
      "text/html": [
       "<table>\n",
       "<thead><tr><th scope=col>Name</th><th scope=col>Age</th><th scope=col>Sex</th><th scope=col>Medal</th><th scope=col>Year</th></tr></thead>\n",
       "<tbody>\n",
       "\t<tr><td>Amit Kumar Dahiya     </td><td>18                    </td><td>M                     </td><td>NA                    </td><td>2012                  </td></tr>\n",
       "\t<tr><td>Geeta Phogat          </td><td>23                    </td><td>F                     </td><td>NA                    </td><td>2012                  </td></tr>\n",
       "\t<tr><td>Hardeep Singh         </td><td>25                    </td><td>M                     </td><td>NA                    </td><td>2016                  </td></tr>\n",
       "\t<tr><td>Kumari Babita         </td><td>26                    </td><td>F                     </td><td>NA                    </td><td>2016                  </td></tr>\n",
       "\t<tr><td>Narsingh Pancham Yadav</td><td>22                    </td><td>M                     </td><td>NA                    </td><td>2012                  </td></tr>\n",
       "\t<tr><td>Ravinder Khatri       </td><td>24                    </td><td>M                     </td><td>NA                    </td><td>2016                  </td></tr>\n",
       "\t<tr><td>Sakshi Malik          </td><td>23                    </td><td>F                     </td><td>Bronze                </td><td>2016                  </td></tr>\n",
       "\t<tr><td>Sandeep Tomar         </td><td>25                    </td><td>M                     </td><td>NA                    </td><td>2016                  </td></tr>\n",
       "\t<tr><td>Sushil Kumar Solanki  </td><td>29                    </td><td>M                     </td><td>Silver                </td><td>2012                  </td></tr>\n",
       "\t<tr><td>Vinesh Phogat         </td><td>21                    </td><td>F                     </td><td>NA                    </td><td>2016                  </td></tr>\n",
       "\t<tr><td>Yogeshwar Dutt        </td><td>29                    </td><td>M                     </td><td>Bronze                </td><td>2012                  </td></tr>\n",
       "\t<tr><td>Yogeshwar Dutt        </td><td>33                    </td><td>M                     </td><td>NA                    </td><td>2016                  </td></tr>\n",
       "</tbody>\n",
       "</table>\n"
      ],
      "text/latex": [
       "\\begin{tabular}{r|lllll}\n",
       " Name & Age & Sex & Medal & Year\\\\\n",
       "\\hline\n",
       "\t Amit Kumar Dahiya      & 18                     & M                      & NA                     & 2012                  \\\\\n",
       "\t Geeta Phogat           & 23                     & F                      & NA                     & 2012                  \\\\\n",
       "\t Hardeep Singh          & 25                     & M                      & NA                     & 2016                  \\\\\n",
       "\t Kumari Babita          & 26                     & F                      & NA                     & 2016                  \\\\\n",
       "\t Narsingh Pancham Yadav & 22                     & M                      & NA                     & 2012                  \\\\\n",
       "\t Ravinder Khatri        & 24                     & M                      & NA                     & 2016                  \\\\\n",
       "\t Sakshi Malik           & 23                     & F                      & Bronze                 & 2016                  \\\\\n",
       "\t Sandeep Tomar          & 25                     & M                      & NA                     & 2016                  \\\\\n",
       "\t Sushil Kumar Solanki   & 29                     & M                      & Silver                 & 2012                  \\\\\n",
       "\t Vinesh Phogat          & 21                     & F                      & NA                     & 2016                  \\\\\n",
       "\t Yogeshwar Dutt         & 29                     & M                      & Bronze                 & 2012                  \\\\\n",
       "\t Yogeshwar Dutt         & 33                     & M                      & NA                     & 2016                  \\\\\n",
       "\\end{tabular}\n"
      ],
      "text/markdown": [
       "\n",
       "| Name | Age | Sex | Medal | Year |\n",
       "|---|---|---|---|---|\n",
       "| Amit Kumar Dahiya      | 18                     | M                      | NA                     | 2012                   |\n",
       "| Geeta Phogat           | 23                     | F                      | NA                     | 2012                   |\n",
       "| Hardeep Singh          | 25                     | M                      | NA                     | 2016                   |\n",
       "| Kumari Babita          | 26                     | F                      | NA                     | 2016                   |\n",
       "| Narsingh Pancham Yadav | 22                     | M                      | NA                     | 2012                   |\n",
       "| Ravinder Khatri        | 24                     | M                      | NA                     | 2016                   |\n",
       "| Sakshi Malik           | 23                     | F                      | Bronze                 | 2016                   |\n",
       "| Sandeep Tomar          | 25                     | M                      | NA                     | 2016                   |\n",
       "| Sushil Kumar Solanki   | 29                     | M                      | Silver                 | 2012                   |\n",
       "| Vinesh Phogat          | 21                     | F                      | NA                     | 2016                   |\n",
       "| Yogeshwar Dutt         | 29                     | M                      | Bronze                 | 2012                   |\n",
       "| Yogeshwar Dutt         | 33                     | M                      | NA                     | 2016                   |\n",
       "\n"
      ],
      "text/plain": [
       "   Name                   Age Sex Medal  Year\n",
       "1  Amit Kumar Dahiya      18  M   NA     2012\n",
       "2  Geeta Phogat           23  F   NA     2012\n",
       "3  Hardeep Singh          25  M   NA     2016\n",
       "4  Kumari Babita          26  F   NA     2016\n",
       "5  Narsingh Pancham Yadav 22  M   NA     2012\n",
       "6  Ravinder Khatri        24  M   NA     2016\n",
       "7  Sakshi Malik           23  F   Bronze 2016\n",
       "8  Sandeep Tomar          25  M   NA     2016\n",
       "9  Sushil Kumar Solanki   29  M   Silver 2012\n",
       "10 Vinesh Phogat          21  F   NA     2016\n",
       "11 Yogeshwar Dutt         29  M   Bronze 2012\n",
       "12 Yogeshwar Dutt         33  M   NA     2016"
      ]
     },
     "metadata": {},
     "output_type": "display_data"
    }
   ],
   "source": [
    "#Wrestlers that have represented India in last two olympics\n",
    "wrestlers <- athlete_events %>% filter(Team == \"India\", Year %in% c(2012, 2016), Sport == \"Wrestling\") %>%\n",
    "    group_by(Name) %>%\n",
    "    summarize(Age, Sex, Medal, Year)\n",
    "wrestlers"
   ]
  },
  {
   "cell_type": "markdown",
   "metadata": {},
   "source": [
    "## 6. Recommendation"
   ]
  },
  {
   "cell_type": "markdown",
   "metadata": {},
   "source": [
    "Here, I have chosen Age, Sex, Medal and Year to describe and select which athlete to sponsor. By looking at above table and researching about each athlete, I have come to conclusion that Vinesh Phogat is the best bet for Kellogg's to sponsor. Although she didn't win any medal at 2016 Rio olympics, it was her debut at a very young age of 21 which brought her to limelight. She is the only athlete from above table to have qualified for upcoming Tokyo Olympics. Although, Sakshi Malik won Bronze at Rio Olympics, she was unable to qualify for the next one. \n",
    "\n",
    "Vinesh Phogat became the first India wrestler to qualify for the Tokyo Olympics after a commanding win over reigning Olympic silver medallist at the World Wrestling Championships in Nur Sultan, Kazakhstan. Moreover, she became the first Indian woman wrestler to win Gold in both Commonwealth and Asian games. There are many more achievements which can be found on web. \n",
    "\n",
    "A young athlete with such a tremendous potential coming from rural India is a perfect candidate to become Olympic brand ambassador for Kellogg's. "
   ]
  },
  {
   "cell_type": "markdown",
   "metadata": {},
   "source": [
    "## 7. Summary"
   ]
  },
  {
   "cell_type": "markdown",
   "metadata": {},
   "source": [
    "A year from now, the world will begin to gather in Japan to celebrate the opening of the Tokyo Olympics, which were originally supposed to be held this year. Like people of many other countries, Indians are once again weaving big dreams and expectations around their athletes. Kellogg's is looking to capitalize on this opportunity by sponsoring the right sport and athlete as it wants to gain from huge market of India. So I decided to help Kellogg's by conducting a research and analyzing the olympic dataset to find insights from it.\n",
    "\n",
    "Firstly, I understood the data by summarizing it. The output included number of rows and columns as well as different types of data that each column represents. Then, I printed the first 10 rows of the dataset which helped me understand in detail what data each column represents and what differentiates them. Consequently, I started focussing the data from India's perspective and counted the number of athletes that have represented India over the years in different olympics. Also, I plotted the graph related to it by grouping data into different years and seasons. It showed an upward spike in India's participation in Summer olympics which was a promising trend. However, the graph also depicted India's apathy towards Winter Olympics. Then I started narrowing down my research by focussing on top 10 sports that had highest representation of athletes from India in last two Olympics. By analyzing all these data, I came to conclusion that Wrestling is the best choice for Kellogg's to communicate about their product. Particularly, Vinesh Phogat, a young and dynamic wrestler was a perfect fit to penetrate huge and diverse Indian market. "
   ]
  }
 ],
 "metadata": {
  "kernelspec": {
   "display_name": "Python 3 (ipykernel)",
   "language": "python",
   "name": "python3"
  },
  "language_info": {
   "codemirror_mode": {
    "name": "ipython",
    "version": 3
   },
   "file_extension": ".py",
   "mimetype": "text/x-python",
   "name": "python",
   "nbconvert_exporter": "python",
   "pygments_lexer": "ipython3",
   "version": "3.9.7"
  }
 },
 "nbformat": 4,
 "nbformat_minor": 4
}
